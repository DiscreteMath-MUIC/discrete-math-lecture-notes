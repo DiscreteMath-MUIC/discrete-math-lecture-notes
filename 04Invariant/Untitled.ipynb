{
 "cells": [
  {
   "cell_type": "code",
   "execution_count": 1,
   "metadata": {
    "collapsed": false
   },
   "outputs": [
    {
     "name": "stdout",
     "output_type": "stream",
     "text": [
      "\\draw[fill=black] (0,2) rectangle (1,3);\n",
      "\\draw[fill=black] (0,4) rectangle (1,5);\n",
      "\\draw[fill=black] (0,6) rectangle (1,7);\n",
      "\\draw[fill=black] (1,1) rectangle (2,2);\n",
      "\\draw[fill=black] (1,3) rectangle (2,4);\n",
      "\\draw[fill=black] (1,5) rectangle (2,6);\n",
      "\\draw[fill=black] (1,7) rectangle (2,8);\n",
      "\\draw[fill=black] (2,0) rectangle (3,1);\n",
      "\\draw[fill=black] (2,2) rectangle (3,3);\n",
      "\\draw[fill=black] (2,4) rectangle (3,5);\n",
      "\\draw[fill=black] (2,6) rectangle (3,7);\n",
      "\\draw[fill=black] (3,1) rectangle (4,2);\n",
      "\\draw[fill=black] (3,3) rectangle (4,4);\n",
      "\\draw[fill=black] (3,5) rectangle (4,6);\n",
      "\\draw[fill=black] (3,7) rectangle (4,8);\n",
      "\\draw[fill=black] (4,0) rectangle (5,1);\n",
      "\\draw[fill=black] (4,2) rectangle (5,3);\n",
      "\\draw[fill=black] (4,4) rectangle (5,5);\n",
      "\\draw[fill=black] (4,6) rectangle (5,7);\n",
      "\\draw[fill=black] (5,1) rectangle (6,2);\n",
      "\\draw[fill=black] (5,3) rectangle (6,4);\n",
      "\\draw[fill=black] (5,5) rectangle (6,6);\n",
      "\\draw[fill=black] (5,7) rectangle (6,8);\n",
      "\\draw[fill=black] (6,0) rectangle (7,1);\n",
      "\\draw[fill=black] (6,2) rectangle (7,3);\n",
      "\\draw[fill=black] (6,4) rectangle (7,5);\n",
      "\\draw[fill=black] (6,6) rectangle (7,7);\n",
      "\\draw[fill=black] (7,1) rectangle (8,2);\n",
      "\\draw[fill=black] (7,3) rectangle (8,4);\n",
      "\\draw[fill=black] (7,5) rectangle (8,6);\n"
     ]
    }
   ],
   "source": [
    "for  i in range(8):\n",
    "    for j in range(8):\n",
    "        if i==0 and j==0:\n",
    "            continue\n",
    "        if i==7 and j==7:\n",
    "            continue\n",
    "        if (i+j)%2==0:\n",
    "            print '\\draw[fill=black] (%d,%d) rectangle (%d,%d);'%(i,j,i+1,j+1)"
   ]
  },
  {
   "cell_type": "code",
   "execution_count": 1,
   "metadata": {
    "collapsed": false
   },
   "outputs": [],
   "source": [
    "def make_arg(arg, kwd):\n",
    "    cpy = [a for a in arg]\n",
    "\n",
    "    for k,v in kwd.iteritems():\n",
    "        cpy.append('%s=%s'%(k,v))\n",
    "    \n",
    "    s = ', '.join(cpy)  \n",
    "    return s\n",
    "\n",
    "\n",
    "\n",
    "def rectangle(x1, y1, x2, y2, *arg, **kwd):\n",
    "    return '\\draw[%s] (%r, %r) rectangle (%r, %r);'%(make_arg(arg, kwd),x1, y1, x2, y2)\n",
    "\n",
    "#print rectangle(1,2,3,4)\n",
    "\n",
    "def line(x1, y1, x2, y2, *arg, **kwd):\n",
    "    return '\\draw[%s] (%r, %r) -- (%r, %r);'%(make_arg(arg, kwd),x1,y1,x2,y2)\n",
    "\n",
    "#print line(1,2,3,4)\n",
    "\n",
    "def lines(*arg,**kwd):\n",
    "    if len(arg)%2 !=0:\n",
    "        raise IndexError('number coordinate must be even');\n",
    "    tmp = []\n",
    "    for i in range(len(arg)/2):\n",
    "        tmp.append('(%r, %r)'%(arg[2*i], arg[2*i+1]) )\n",
    "    l = ' -- '.join(tmp)\n",
    "    return '\\draw[%s] %s;'%(make_arg([],kwd), l)\n",
    "\n",
    "#print lines(1,2,3,4,5,6)\n",
    "\n",
    "def grid(x1, y1, x2, y2, *arg, **kwd):\n",
    "    return '\\draw[%s] (%r, %r) grid (%r, %r);'%(make_arg(arg, kwd),x1,y1,x2,y2)\n",
    "\n",
    "#print grid(1,2,3,4)\n",
    "\n",
    "def node(text, x, y, name='',*arg, **kwd):\n",
    "    return r'\\node(%s)[%s] at (%r, %r) {%s};'%(name, make_arg(arg, kwd), x, y, text)\n",
    "\n",
    "#print node('hello',1,2,'a')\n",
    "\n",
    "def circle(cx, cy, r, *arg, **kwd):\n",
    "    return '\\draw[%s] (%r, %r) circle (%r);'%(make_arg(arg, kwd),cx, cy, r)\n",
    "\n",
    "#print circle(0,0,1.5)\n",
    "\n"
   ]
  },
  {
   "cell_type": "code",
   "execution_count": 2,
   "metadata": {
    "collapsed": false
   },
   "outputs": [
    {
     "name": "stdout",
     "output_type": "stream",
     "text": [
      "\\draw[step=1cm] (0, 0) grid (4, -4);\n",
      "\\node()[anchor=center] at (0.5, -0.5) {1};\n",
      "\\node()[anchor=center] at (0.5, -1.5) {5};\n",
      "\\node()[anchor=center] at (0.5, -2.5) {9};\n",
      "\\node()[anchor=center] at (0.5, -3.5) {13};\n",
      "\\node()[anchor=center] at (1.5, -0.5) {2};\n",
      "\\node()[anchor=center] at (1.5, -1.5) {6};\n",
      "\\node()[anchor=center] at (1.5, -2.5) {10};\n",
      "\\node()[anchor=center] at (1.5, -3.5) {14};\n",
      "\\node()[anchor=center] at (2.5, -0.5) {3};\n",
      "\\node()[anchor=center] at (2.5, -1.5) {7};\n",
      "\\node()[anchor=center] at (2.5, -2.5) {11};\n",
      "\\node()[anchor=center] at (2.5, -3.5) {15};\n",
      "\\node()[anchor=center] at (3.5, -0.5) {4};\n",
      "\\node()[anchor=center] at (3.5, -1.5) {8};\n",
      "\\node()[anchor=center] at (3.5, -2.5) {12};\n"
     ]
    }
   ],
   "source": [
    "print grid(0,0,4,-4,step='1cm')\n",
    "for i in range(4):\n",
    "    for j in range(4):\n",
    "        if i!=3 or j!=3:\n",
    "            print node(4*j + i+1, i+0.5, -j-0.5, anchor='center')"
   ]
  },
  {
   "cell_type": "code",
   "execution_count": null,
   "metadata": {
    "collapsed": true
   },
   "outputs": [],
   "source": []
  },
  {
   "cell_type": "code",
   "execution_count": null,
   "metadata": {
    "collapsed": true
   },
   "outputs": [],
   "source": []
  }
 ],
 "metadata": {
  "kernelspec": {
   "display_name": "Python 2",
   "language": "python",
   "name": "python2"
  },
  "language_info": {
   "codemirror_mode": {
    "name": "ipython",
    "version": 2
   },
   "file_extension": ".py",
   "mimetype": "text/x-python",
   "name": "python",
   "nbconvert_exporter": "python",
   "pygments_lexer": "ipython2",
   "version": "2.7.9"
  }
 },
 "nbformat": 4,
 "nbformat_minor": 0
}
