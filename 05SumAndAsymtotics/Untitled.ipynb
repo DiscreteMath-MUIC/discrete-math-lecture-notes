{
 "cells": [
  {
   "cell_type": "code",
   "execution_count": 2,
   "metadata": {
    "collapsed": false
   },
   "outputs": [
    {
     "name": "stdout",
     "output_type": "stream",
     "text": [
      "(1, 1.000)\n",
      "(2, 0.707)\n",
      "(3, 0.577)\n",
      "(4, 0.500)\n",
      "(5, 0.447)\n",
      "(6, 0.408)\n",
      "(7, 0.378)\n",
      "(8, 0.354)\n",
      "(9, 0.333)\n"
     ]
    }
   ],
   "source": [
    "from math import sqrt\n",
    "import numpy as np\n",
    "for i in range(1,10):\n",
    "    print '(%d, %4.3f)'%(i,1/sqrt(i))"
   ]
  },
  {
   "cell_type": "code",
   "execution_count": 5,
   "metadata": {
    "collapsed": false
   },
   "outputs": [
    {
     "name": "stdout",
     "output_type": "stream",
     "text": [
      "(0.000, 1.000)\n",
      "(0.163, 0.927)\n",
      "(0.327, 0.868)\n",
      "(0.490, 0.819)\n",
      "(0.653, 0.778)\n",
      "(0.816, 0.742)\n",
      "(0.980, 0.711)\n",
      "(1.143, 0.683)\n",
      "(1.306, 0.659)\n",
      "(1.469, 0.636)\n",
      "(1.633, 0.616)\n",
      "(1.796, 0.598)\n",
      "(1.959, 0.581)\n",
      "(2.122, 0.566)\n",
      "(2.286, 0.552)\n",
      "(2.449, 0.538)\n",
      "(2.612, 0.526)\n",
      "(2.776, 0.515)\n",
      "(2.939, 0.504)\n",
      "(3.102, 0.494)\n",
      "(3.265, 0.484)\n",
      "(3.429, 0.475)\n",
      "(3.592, 0.467)\n",
      "(3.755, 0.459)\n",
      "(3.918, 0.451)\n",
      "(4.082, 0.444)\n",
      "(4.245, 0.437)\n",
      "(4.408, 0.430)\n",
      "(4.571, 0.424)\n",
      "(4.735, 0.418)\n",
      "(4.898, 0.412)\n",
      "(5.061, 0.406)\n",
      "(5.224, 0.401)\n",
      "(5.388, 0.396)\n",
      "(5.551, 0.391)\n",
      "(5.714, 0.386)\n",
      "(5.878, 0.381)\n",
      "(6.041, 0.377)\n",
      "(6.204, 0.373)\n",
      "(6.367, 0.368)\n",
      "(6.531, 0.364)\n",
      "(6.694, 0.361)\n",
      "(6.857, 0.357)\n",
      "(7.020, 0.353)\n",
      "(7.184, 0.350)\n",
      "(7.347, 0.346)\n",
      "(7.510, 0.343)\n",
      "(7.673, 0.340)\n",
      "(7.837, 0.336)\n",
      "(8.000, 0.333)\n"
     ]
    }
   ],
   "source": [
    "x = np.linspace(1,9,50)\n",
    "for xx in x:\n",
    "    print '(%4.3f, %4.3f)'%(xx-1, 1/sqrt(xx))"
   ]
  },
  {
   "cell_type": "code",
   "execution_count": 20,
   "metadata": {
    "collapsed": false
   },
   "outputs": [
    {
     "name": "stdout",
     "output_type": "stream",
     "text": [
      "\\node() at (axis cs: 0.5000,1.1000){$\\frac{1}{\\sqrt{1}}$};\n",
      "\\node() at (axis cs: 1.5000,0.8071){$\\frac{1}{\\sqrt{2}}$};\n",
      "\\node() at (axis cs: 2.5000,0.6774){$\\frac{1}{\\sqrt{3}}$};\n",
      "\\node() at (axis cs: 3.5000,0.6000){$\\frac{1}{\\sqrt{4}}$};\n",
      "\\node() at (axis cs: 4.5000,0.5472){$\\frac{1}{\\sqrt{5}}$};\n",
      "\\node() at (axis cs: 5.5000,0.5082){$\\frac{1}{\\sqrt{6}}$};\n",
      "\\node() at (axis cs: 6.5000,0.4780){$\\frac{1}{\\sqrt{7}}$};\n",
      "\\node() at (axis cs: 7.5000,0.4536){$\\frac{1}{\\sqrt{8}}$};\n",
      "\\node() at (axis cs: 8.5000,0.4333){$\\frac{1}{\\sqrt{9}}$};\n"
     ]
    }
   ],
   "source": [
    "for i in range(1,10):\n",
    "    print '\\\\node() at (axis cs: %3.4f,%3.4f){$\\\\frac{1}{\\\\sqrt{%d}}$};'%(i-0.5,1/sqrt(i)+0.1,i)"
   ]
  },
  {
   "cell_type": "code",
   "execution_count": null,
   "metadata": {
    "collapsed": true
   },
   "outputs": [],
   "source": []
  }
 ],
 "metadata": {
  "kernelspec": {
   "display_name": "Python 2",
   "language": "python",
   "name": "python2"
  },
  "language_info": {
   "codemirror_mode": {
    "name": "ipython",
    "version": 2
   },
   "file_extension": ".py",
   "mimetype": "text/x-python",
   "name": "python",
   "nbconvert_exporter": "python",
   "pygments_lexer": "ipython2",
   "version": "2.7.9"
  }
 },
 "nbformat": 4,
 "nbformat_minor": 0
}
